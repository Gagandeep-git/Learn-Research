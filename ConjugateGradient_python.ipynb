{
  "nbformat": 4,
  "nbformat_minor": 0,
  "metadata": {
    "colab": {
      "name": "ConjugateGradient_python.ipynb",
      "provenance": [],
      "collapsed_sections": []
    },
    "kernelspec": {
      "name": "python3",
      "display_name": "Python 3"
    }
  },
  "cells": [
    {
      "cell_type": "code",
      "metadata": {
        "id": "3zXHVUjCqqjD",
        "colab_type": "code",
        "colab": {}
      },
      "source": [
        "import numpy as np"
      ],
      "execution_count": 0,
      "outputs": []
    },
    {
      "cell_type": "code",
      "metadata": {
        "id": "lpN9kR4VrMKx",
        "colab_type": "code",
        "outputId": "c0b253b7-3c01-41fc-ae08-37c618beb573",
        "colab": {
          "base_uri": "https://localhost:8080/",
          "height": 85
        }
      },
      "source": [
        "#A=np.matrix(('2 -1 0;-1 2 -1;0 -1 2'))\n",
        "#A=np.matrix(('1 2 3;5 6 7;7 8 9'))\n",
        "#A=np.matrix(('9 -1 2;-1 8 -5;2 -5 7'))\n",
        "#A=np.matrix(('4 2 0 0;2 5 2 0;0 2 5 2;0 0 2 5'))\n",
        "A=np.matrix(('1 -1 -1 -1;-1 2 2 2;-1 2 3 1;-1 2 1 4'))\n",
        "print(A)"
      ],
      "execution_count": 0,
      "outputs": [
        {
          "output_type": "stream",
          "text": [
            "[[ 1 -1 -1 -1]\n",
            " [-1  2  2  2]\n",
            " [-1  2  3  1]\n",
            " [-1  2  1  4]]\n"
          ],
          "name": "stdout"
        }
      ]
    },
    {
      "cell_type": "code",
      "metadata": {
        "id": "2p2GteU_sEPe",
        "colab_type": "code",
        "outputId": "9a2e3177-170f-4613-fe2b-60863683cc51",
        "colab": {
          "base_uri": "https://localhost:8080/",
          "height": 34
        }
      },
      "source": [
        "# check if A is positive definite\n",
        "from numpy import linalg as lina\n",
        "w, v = lina.eig(A)\n",
        "w"
      ],
      "execution_count": 0,
      "outputs": [
        {
          "output_type": "execute_result",
          "data": {
            "text/plain": [
              "array([6.89083658, 2.5029701 , 0.48718458, 0.11900874])"
            ]
          },
          "metadata": {
            "tags": []
          },
          "execution_count": 4
        }
      ]
    },
    {
      "cell_type": "code",
      "metadata": {
        "id": "R0N8bsWlrNA0",
        "colab_type": "code",
        "outputId": "8e6d66dc-cb62-4c64-fa0f-3f8c0762015e",
        "colab": {
          "base_uri": "https://localhost:8080/",
          "height": 85
        }
      },
      "source": [
        "#b=np.matrix('1;-7;5')\n",
        "#b=np.matrix('10;2;4')\n",
        "#b=np.matrix('6;9;9;7')\n",
        "b=np.matrix('-2;5;5;6')\n",
        "print(b)"
      ],
      "execution_count": 0,
      "outputs": [
        {
          "output_type": "stream",
          "text": [
            "[[-2]\n",
            " [ 5]\n",
            " [ 5]\n",
            " [ 6]]\n"
          ],
          "name": "stdout"
        }
      ]
    },
    {
      "cell_type": "code",
      "metadata": {
        "id": "UrRYqeIarRbO",
        "colab_type": "code",
        "outputId": "17dc12b9-9f99-4a55-b208-8f8057b0fd52",
        "colab": {
          "base_uri": "https://localhost:8080/",
          "height": 85
        }
      },
      "source": [
        "x=np.matrix('0;0;0;0')\n",
        "print(x)"
      ],
      "execution_count": 0,
      "outputs": [
        {
          "output_type": "stream",
          "text": [
            "[[0]\n",
            " [0]\n",
            " [0]\n",
            " [0]]\n"
          ],
          "name": "stdout"
        }
      ]
    },
    {
      "cell_type": "code",
      "metadata": {
        "id": "3ZMZ_jmurWs5",
        "colab_type": "code",
        "colab": {}
      },
      "source": [
        "def conjugateGradient(A, b, x):\n",
        "\n",
        "    r = b - np.matmul(A, x)                   #residual\n",
        "    p = r\n",
        "    r_square_prev = np.dot(np.transpose(r), r)\n",
        "    \n",
        "    for i in range(len(b)):\n",
        "        Ap = np.matmul(A, p)\n",
        "        #alpha = r_square_prev / np.dot(p, Ap)\n",
        "        alpha = r_square_prev / np.dot(np.transpose(p), Ap)\n",
        "        #x = x + np.dot(np.multiply(alpha,np.eye(3)), p)\n",
        "        x = x + np.multiply(alpha, p)\n",
        "        r = r - np.multiply(alpha, Ap)\n",
        "        #r = r - np.dot(np.multiply(alpha,np.eye(3)), Ap)\n",
        "        r_square_new = np.dot(np.transpose(r), r)\n",
        "        #print(np.sqrt(r_square_new))\n",
        "        if np.sqrt(r_square_new) < 1e-8:  #check\n",
        "            break\n",
        "        beta=(r_square_new/r_square_prev)\n",
        "        p = r + np.multiply(beta,p)\n",
        "        r_square_prev = r_square_new\n",
        "        #x_sol=x\n",
        "        #print(x_sol)\n",
        "        print('iteration')\n",
        "        print(i)\n",
        "    return x"
      ],
      "execution_count": 0,
      "outputs": []
    },
    {
      "cell_type": "code",
      "metadata": {
        "id": "8AJxzUZFreAp",
        "colab_type": "code",
        "outputId": "e7e94dce-f6ef-4731-a964-75d571b47cfe",
        "colab": {
          "base_uri": "https://localhost:8080/",
          "height": 119
        }
      },
      "source": [
        "x_sol=conjugateGradient(A, b, x)"
      ],
      "execution_count": 0,
      "outputs": [
        {
          "output_type": "stream",
          "text": [
            "iteration\n",
            "0\n",
            "iteration\n",
            "1\n",
            "iteration\n",
            "2\n"
          ],
          "name": "stdout"
        }
      ]
    },
    {
      "cell_type": "code",
      "metadata": {
        "id": "lWCXukcCroh4",
        "colab_type": "code",
        "outputId": "ce62ba2a-b965-4bc4-88a2-4f5fa7093827",
        "colab": {
          "base_uri": "https://localhost:8080/",
          "height": 85
        }
      },
      "source": [
        "x_sol"
      ],
      "execution_count": 0,
      "outputs": [
        {
          "output_type": "execute_result",
          "data": {
            "text/plain": [
              "matrix([[1.],\n",
              "        [1.],\n",
              "        [1.],\n",
              "        [1.]])"
            ]
          },
          "metadata": {
            "tags": []
          },
          "execution_count": 9
        }
      ]
    },
    {
      "cell_type": "code",
      "metadata": {
        "id": "HLURqcC9ozC6",
        "colab_type": "code",
        "colab": {}
      },
      "source": [
        "import numpy as np"
      ],
      "execution_count": 0,
      "outputs": []
    },
    {
      "cell_type": "code",
      "metadata": {
        "id": "uSfjSN9IrueK",
        "colab_type": "code",
        "outputId": "12e9b987-6616-4e51-fe05-565e2dce643e",
        "colab": {
          "base_uri": "https://localhost:8080/",
          "height": 119
        }
      },
      "source": [
        "### testing multiplication result given by cublas\n",
        "a=np.matrix('11 17 23 29 35;12 18 24 30 36;13 19 25 31 37;14 20 26 32 38;15 21 27 33 39;16 22 28 34 40')\n",
        "b=np.matrix('11 16 21 26;12 17 22 27;13 18 23 28;14 19 24 29;15 20 25 30')\n",
        "c=np.matmul(a, b)\n",
        "print(c)\n"
      ],
      "execution_count": 0,
      "outputs": [
        {
          "output_type": "stream",
          "text": [
            "[[1555 2130 2705 3280]\n",
            " [1620 2220 2820 3420]\n",
            " [1685 2310 2935 3560]\n",
            " [1750 2400 3050 3700]\n",
            " [1815 2490 3165 3840]\n",
            " [1880 2580 3280 3980]]\n"
          ],
          "name": "stdout"
        }
      ]
    },
    {
      "cell_type": "code",
      "metadata": {
        "id": "JoTEROcygqgy",
        "colab_type": "code",
        "colab": {}
      },
      "source": [
        "1555   2130   2705   3280\n",
        "   1620   2220   2820   3420\n",
        "   1685   2310   2935   3560\n",
        "   1750   2400   3050   3700\n",
        "   1815   2490   3165   3840\n",
        "   1880   2580   3280   3980"
      ],
      "execution_count": 0,
      "outputs": []
    },
    {
      "cell_type": "code",
      "metadata": {
        "id": "QmX3NAUKUduu",
        "colab_type": "code",
        "colab": {}
      },
      "source": [
        "import numpy as np"
      ],
      "execution_count": 0,
      "outputs": []
    },
    {
      "cell_type": "code",
      "metadata": {
        "id": "8HaiB2PiUhyg",
        "colab_type": "code",
        "colab": {}
      },
      "source": [
        "A=np.matrix(('4 2 0 0;2 5 2 0;0 2 5 2;0 0 2 5'))\n",
        "b=np.matrix('6;9;9;7')\n",
        "x=np.matrix('0;0;0;0')"
      ],
      "execution_count": 0,
      "outputs": []
    },
    {
      "cell_type": "code",
      "metadata": {
        "id": "JrXVRUqJUV4U",
        "colab_type": "code",
        "colab": {}
      },
      "source": [
        ""
      ],
      "execution_count": 0,
      "outputs": []
    },
    {
      "cell_type": "code",
      "metadata": {
        "id": "WgOXwT6RVUEM",
        "colab_type": "code",
        "outputId": "85ad37d9-3d4b-4386-90b1-18a516b12727",
        "colab": {
          "base_uri": "https://localhost:8080/",
          "height": 1000
        }
      },
      "source": [
        "x_sol=conjugateGradient(A, b, x)\n",
        "x_sol"
      ],
      "execution_count": 0,
      "outputs": [
        {
          "output_type": "stream",
          "text": [
            "In conjugateGradient method\n",
            "r=\n",
            "[[-2]\n",
            " [ 5]\n",
            " [ 5]\n",
            " [ 6]]\n",
            "***************\n",
            "r_square_prev\n",
            "[[90]]\n",
            "***************\n",
            "----------------------------------\n",
            "iteration:\n",
            "0\n",
            "Ap=\n",
            "[[-18]\n",
            " [ 34]\n",
            " [ 33]\n",
            " [ 41]]\n",
            "alpha=\n",
            "[[0.1458671]]\n",
            "x=\n",
            "[[-0.2917342 ]\n",
            " [ 0.72933549]\n",
            " [ 0.72933549]\n",
            " [ 0.87520259]]\n",
            "r=\n",
            "[[0.62560778]\n",
            " [0.04051864]\n",
            " [0.18638574]\n",
            " [0.01944895]]\n",
            "r_square_new=\n",
            "[[0.42814476]]\n",
            "beta=\n",
            "[[0.00475716]]\n",
            "p=\n",
            "[[0.61609345]\n",
            " [0.06430446]\n",
            " [0.21017156]\n",
            " [0.04799193]]\n",
            "r_square_prev\n",
            "[[0.42814476]]\n",
            "----------------------------------\n",
            "iteration:\n",
            "1\n",
            "Ap=\n",
            "[[ 0.29362551]\n",
            " [ 0.02884244]\n",
            " [ 0.19102207]\n",
            " [-0.08534526]]\n",
            "alpha=\n",
            "[[1.95672358]]\n",
            "x=\n",
            "[[0.91379039]\n",
            " [0.85516154]\n",
            " [1.14058314]\n",
            " [0.96910954]]\n",
            "r=\n",
            "[[ 0.05106383]\n",
            " [-0.01591805]\n",
            " [-0.18739165]\n",
            " [ 0.18644602]]\n",
            "r_square_new=\n",
            "[[0.07273865]]\n",
            "beta=\n",
            "[[0.16989265]]\n",
            "p=\n",
            "[[ 0.15573358]\n",
            " [-0.00499319]\n",
            " [-0.15168504]\n",
            " [ 0.1945995 ]]\n",
            "r_square_prev\n",
            "[[0.07273865]]\n",
            "----------------------------------\n",
            "iteration:\n",
            "2\n",
            "Ap=\n",
            "[[ 0.11781232]\n",
            " [-0.07989106]\n",
            " [-0.4261756 ]\n",
            " [ 0.46099298]]\n",
            "alpha=\n",
            "[[0.42021241]]\n",
            "x=\n",
            "[[0.97923157]\n",
            " [0.85306334]\n",
            " [1.0768432 ]\n",
            " [1.05088266]]\n",
            "r=\n",
            "[[ 0.00155763]\n",
            " [ 0.01765317]\n",
            " [-0.00830737]\n",
            " [-0.00726895]]\n",
            "r_square_new=\n",
            "[[0.00043591]]\n",
            "beta=\n",
            "[[0.00599283]]\n",
            "p=\n",
            "[[ 0.00249092]\n",
            " [ 0.01762324]\n",
            " [-0.0092164 ]\n",
            " [-0.00610275]]\n",
            "r_square_prev\n",
            "[[0.00043591]]\n",
            "----------------------------------\n",
            "iteration:\n",
            "3\n",
            "Ap=\n",
            "[[ 0.00018682]\n",
            " [ 0.00211728]\n",
            " [-0.00099637]\n",
            " [-0.00087182]]\n",
            "alpha=\n",
            "[[8.33766234]]\n",
            "x=\n",
            "[[1.]\n",
            " [1.]\n",
            " [1.]\n",
            " [1.]]\n",
            "r=\n",
            "[[ 2.27284337e-13]\n",
            " [-4.21867402e-13]\n",
            " [-4.06197645e-13]\n",
            " [-5.12057410e-13]]\n",
            "r_square_new=\n",
            "[[6.56829593e-25]]\n",
            "breaking the loop\n"
          ],
          "name": "stdout"
        },
        {
          "output_type": "execute_result",
          "data": {
            "text/plain": [
              "matrix([[1.],\n",
              "        [1.],\n",
              "        [1.],\n",
              "        [1.]])"
            ]
          },
          "metadata": {
            "tags": []
          },
          "execution_count": 16
        }
      ]
    },
    {
      "cell_type": "code",
      "metadata": {
        "id": "bnDu8yfIVVEg",
        "colab_type": "code",
        "colab": {}
      },
      "source": [
        ""
      ],
      "execution_count": 0,
      "outputs": []
    }
  ]
}